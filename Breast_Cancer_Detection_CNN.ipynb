{
  "nbformat": 4,
  "nbformat_minor": 0,
  "metadata": {
    "colab": {
      "name": "Breast-Cancer-Detection-CNN.ipynb",
      "version": "0.3.2",
      "provenance": [],
      "collapsed_sections": [],
      "include_colab_link": true
    },
    "kernelspec": {
      "name": "python3",
      "display_name": "Python 3"
    },
    "accelerator": "GPU"
  },
  "cells": [
    {
      "cell_type": "markdown",
      "metadata": {
        "id": "view-in-github",
        "colab_type": "text"
      },
      "source": [
        "<a href=\"https://colab.research.google.com/github/eaishwa/breast-cancer-identification/blob/master/Breast_Cancer_Detection_CNN.ipynb\" target=\"_parent\"><img src=\"https://colab.research.google.com/assets/colab-badge.svg\" alt=\"Open In Colab\"/></a>"
      ]
    },
    {
      "cell_type": "markdown",
      "metadata": {
        "id": "jawuzzL8zZVk",
        "colab_type": "text"
      },
      "source": [
        "# Breast Cancer Detection using Convolutional Neural Networks\n",
        "\n",
        "Breast cancer is the most common form of cancer in women, and invasive ductal carcinoma (IDC) is the most common form of breast cancer. Accurately identifying and categorizing breast cancer subtypes is an important clinical task, and automated methods can be used to save time and reduce error.\n",
        "\n",
        "In this project, I have explored and leveraged convolutional neural networks to accurately classify if the image contains cancerous cells or not.\n",
        "\n",
        "The dataset is taken from kaggle\n",
        "\n",
        "https://www.kaggle.com/paultimothymooney/breast-histopathology-images"
      ]
    },
    {
      "cell_type": "code",
      "metadata": {
        "id": "VeeP0pl8ZRRU",
        "colab_type": "code",
        "outputId": "26899712-8a8a-4597-e62a-8c28eb8c44da",
        "colab": {
          "resources": {
            "http://localhost:8080/nbextensions/google.colab/files.js": {
              "data": "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",
              "ok": true,
              "headers": [
                [
                  "content-type",
                  "application/javascript"
                ]
              ],
              "status": 200,
              "status_text": ""
            }
          },
          "base_uri": "https://localhost:8080/",
          "height": 75
        }
      },
      "source": [
        "from google.colab import files\n",
        "uploaded = files.upload()"
      ],
      "execution_count": 2,
      "outputs": [
        {
          "output_type": "display_data",
          "data": {
            "text/html": [
              "\n",
              "     <input type=\"file\" id=\"files-7b3f4991-b719-46b3-a751-a300fa6f8ba3\" name=\"files[]\" multiple disabled />\n",
              "     <output id=\"result-7b3f4991-b719-46b3-a751-a300fa6f8ba3\">\n",
              "      Upload widget is only available when the cell has been executed in the\n",
              "      current browser session. Please rerun this cell to enable.\n",
              "      </output>\n",
              "      <script src=\"/nbextensions/google.colab/files.js\"></script> "
            ],
            "text/plain": [
              "<IPython.core.display.HTML object>"
            ]
          },
          "metadata": {
            "tags": []
          }
        },
        {
          "output_type": "stream",
          "text": [
            "Saving kaggle.json to kaggle.json\n"
          ],
          "name": "stdout"
        }
      ]
    },
    {
      "cell_type": "code",
      "metadata": {
        "id": "OPgTDUJZdOb0",
        "colab_type": "code",
        "colab": {}
      },
      "source": [
        "import os"
      ],
      "execution_count": 0,
      "outputs": []
    },
    {
      "cell_type": "code",
      "metadata": {
        "id": "O9HklNu9Za9a",
        "colab_type": "code",
        "outputId": "3e1e0618-673f-4180-cc17-69a4bebfb042",
        "colab": {
          "base_uri": "https://localhost:8080/",
          "height": 35
        }
      },
      "source": [
        "!mkdir -p ~/.kaggle\n",
        "!cp kaggle.json ~/.kaggle/\n",
        "!chmod 600 ~/.kaggle/kaggle.json\n",
        "!ls ~/.kaggle"
      ],
      "execution_count": 3,
      "outputs": [
        {
          "output_type": "stream",
          "text": [
            "kaggle.json\n"
          ],
          "name": "stdout"
        }
      ]
    },
    {
      "cell_type": "code",
      "metadata": {
        "id": "2rhme_KWZgiP",
        "colab_type": "code",
        "outputId": "c8012fda-0138-43fe-dda3-91c6ea0b05b9",
        "colab": {
          "base_uri": "https://localhost:8080/",
          "height": 69
        }
      },
      "source": [
        "!ls -l ~/.kaggle\n",
        "!cat ~/.kaggle/kaggle.json"
      ],
      "execution_count": 4,
      "outputs": [
        {
          "output_type": "stream",
          "text": [
            "total 4\n",
            "-rw------- 1 root root 62 Sep 11 23:51 kaggle.json\n",
            "{\"username\":\"av2845\",\"key\":\"a597455fba9139049bee5dfe1c6becc8\"}"
          ],
          "name": "stdout"
        }
      ]
    },
    {
      "cell_type": "code",
      "metadata": {
        "id": "I1JHJpccZie3",
        "colab_type": "code",
        "colab": {
          "base_uri": "https://localhost:8080/",
          "height": 139
        },
        "outputId": "01158aa6-b008-4f73-9568-a286b60119ea"
      },
      "source": [
        "!pip install -q kaggle\n",
        "!pip install -q kaggle-cli"
      ],
      "execution_count": 5,
      "outputs": [
        {
          "output_type": "stream",
          "text": [
            "\u001b[K     |████████████████████████████████| 81kB 3.0MB/s \n",
            "\u001b[K     |████████████████████████████████| 5.3MB 7.8MB/s \n",
            "\u001b[K     |████████████████████████████████| 102kB 31.0MB/s \n",
            "\u001b[K     |████████████████████████████████| 51kB 22.3MB/s \n",
            "\u001b[K     |████████████████████████████████| 112kB 56.0MB/s \n",
            "\u001b[?25h  Building wheel for kaggle-cli (setup.py) ... \u001b[?25l\u001b[?25hdone\n",
            "  Building wheel for pyperclip (setup.py) ... \u001b[?25l\u001b[?25hdone\n"
          ],
          "name": "stdout"
        }
      ]
    },
    {
      "cell_type": "code",
      "metadata": {
        "id": "kNy4GnFfZktB",
        "colab_type": "code",
        "outputId": "9af5f52c-c366-4b6c-a52e-44e94dd3cb0a",
        "colab": {
          "base_uri": "https://localhost:8080/",
          "height": 69
        }
      },
      "source": [
        "!kaggle datasets download paultimothymooney/breast-histopathology-images"
      ],
      "execution_count": 6,
      "outputs": [
        {
          "output_type": "stream",
          "text": [
            "Downloading breast-histopathology-images.zip to /content\n",
            "100% 1.48G/1.49G [00:30<00:00, 59.9MB/s]\n",
            "100% 1.49G/1.49G [00:31<00:00, 51.5MB/s]\n"
          ],
          "name": "stdout"
        }
      ]
    },
    {
      "cell_type": "code",
      "metadata": {
        "id": "6G8zqAbNvzsr",
        "colab_type": "code",
        "colab": {
          "base_uri": "https://localhost:8080/",
          "height": 52
        },
        "outputId": "87653472-90d6-4941-ae5a-b8e95187c280"
      },
      "source": [
        "!unzip /content/breast-histopathology-images.zip"
      ],
      "execution_count": 10,
      "outputs": [
        {
          "output_type": "stream",
          "text": [
            "Archive:  /content/breast-histopathology-images.zip\n",
            "  inflating: IDC_regular_ps50_idx5.zip  \n"
          ],
          "name": "stdout"
        }
      ]
    },
    {
      "cell_type": "code",
      "metadata": {
        "id": "lOLYT2qRMcMu",
        "colab_type": "code",
        "colab": {}
      },
      "source": [
        "import zipfile\n",
        "\n",
        "zip_file = zipfile.ZipFile('IDC_regular_ps50_idx5.zip', 'r')\n",
        "zip_file.extractall('/content')\n",
        "zip_file.close()"
      ],
      "execution_count": 0,
      "outputs": []
    },
    {
      "cell_type": "code",
      "metadata": {
        "id": "RHCC23Ala5Ef",
        "colab_type": "code",
        "colab": {}
      },
      "source": [
        "!rm IDC_regular_ps50_idx5.zip"
      ],
      "execution_count": 0,
      "outputs": []
    },
    {
      "cell_type": "markdown",
      "metadata": {
        "id": "w0Fnqfk2wMRj",
        "colab_type": "text"
      },
      "source": [
        "# Read the images into class 0 and 1"
      ]
    },
    {
      "cell_type": "code",
      "metadata": {
        "id": "a2XIDIg8a9ai",
        "colab_type": "code",
        "colab": {}
      },
      "source": [
        "import cv2\n",
        "import os\n",
        "\n",
        "files = os.listdir('/content')\n",
        "new_files = [f for f in files if f != '.config' and f != 'adc.json' and f != 'kaggle.json' and f != 'sample_data']\n",
        "class0 = []\n",
        "class1 = []\n",
        "\n",
        "# choose 20 files from which images are read, done to reduce overhead\n",
        "for i in range(0,20):\n",
        "  f1 = new_files[i]\n",
        "  for classes in os.listdir('/content/'+ f1):\n",
        "     for img in os.listdir('/content/'+ f1+ '/' + classes):\n",
        "        if classes == '0':\n",
        "          class0.append(cv2.imread('/content/' + f1+ '/' + classes + '/' + img))\n",
        "        else:\n",
        "          class1.append(cv2.imread('/content/' + f1+ '/' + classes + '/' + img))"
      ],
      "execution_count": 0,
      "outputs": []
    },
    {
      "cell_type": "code",
      "metadata": {
        "id": "qHxrNSdqg5Fk",
        "colab_type": "code",
        "outputId": "a0243f9c-4ef1-4f01-b92c-e6254c775d86",
        "colab": {
          "base_uri": "https://localhost:8080/",
          "height": 51
        }
      },
      "source": [
        "print(class0[0].shape)\n",
        "print(class1[0].shape)"
      ],
      "execution_count": 0,
      "outputs": [
        {
          "output_type": "stream",
          "text": [
            "(50, 50, 3)\n",
            "(50, 50, 3)\n"
          ],
          "name": "stdout"
        }
      ]
    },
    {
      "cell_type": "markdown",
      "metadata": {
        "id": "GcmfmPEtwLi6",
        "colab_type": "text"
      },
      "source": [
        "# Exclude images that are corrupt"
      ]
    },
    {
      "cell_type": "code",
      "metadata": {
        "id": "_E-qatE5hko7",
        "colab_type": "code",
        "outputId": "2c1785e8-6900-434c-b831-b6c504b23446",
        "colab": {
          "base_uri": "https://localhost:8080/",
          "height": 51
        }
      },
      "source": [
        "import numpy as np\n",
        "\n",
        "class0_clean = []\n",
        "class1_clean = []\n",
        "\n",
        "for img in class0:\n",
        "  \n",
        "  # if shape is wrong, exclude them\n",
        "  if img is None or img.shape[0] != 50 or img.shape[1] != 50:\n",
        "    continue\n",
        "  class0_clean.append(img)\n",
        "  \n",
        "for img in class1:\n",
        "  if img is None or img.shape[0] != 50 or img.shape[1] != 50:\n",
        "    continue\n",
        "  class1_clean.append(img)\n",
        "\n",
        "class0_data = np.array(class0_clean)\n",
        "class1_data = np.array(class1_clean)\n",
        "\n",
        "print(class0_data.shape)\n",
        "print(class1_data.shape)\n",
        "\n",
        "\n",
        "train_array = np.append(class0_data, class1_data,axis=0)"
      ],
      "execution_count": 0,
      "outputs": [
        {
          "output_type": "stream",
          "text": [
            "(18631, 50, 50, 3)\n",
            "(4889, 50, 50, 3)\n"
          ],
          "name": "stdout"
        }
      ]
    },
    {
      "cell_type": "markdown",
      "metadata": {
        "id": "ufpvUgVuwmVF",
        "colab_type": "text"
      },
      "source": [
        "# Import necessary libraries"
      ]
    },
    {
      "cell_type": "code",
      "metadata": {
        "id": "zM5B6L1_hoZO",
        "colab_type": "code",
        "colab": {}
      },
      "source": [
        "import pandas as pd\n",
        "from keras.datasets import mnist\n",
        "import keras\n",
        "from keras.models import Sequential\n",
        "from keras.layers import Dense, Activation, Dropout\n",
        "import numpy as np\n",
        "from keras.layers.normalization import BatchNormalization"
      ],
      "execution_count": 0,
      "outputs": []
    },
    {
      "cell_type": "code",
      "metadata": {
        "id": "iMlP5C60hpQM",
        "colab_type": "code",
        "outputId": "946d4f82-2137-48be-ce3c-727c7e6775fc",
        "colab": {
          "base_uri": "https://localhost:8080/",
          "height": 34
        }
      },
      "source": [
        "train_array.shape"
      ],
      "execution_count": 0,
      "outputs": [
        {
          "output_type": "execute_result",
          "data": {
            "text/plain": [
              "(23520, 50, 50, 3)"
            ]
          },
          "metadata": {
            "tags": []
          },
          "execution_count": 18
        }
      ]
    },
    {
      "cell_type": "code",
      "metadata": {
        "id": "fdBn0y-wazw2",
        "colab_type": "code",
        "colab": {}
      },
      "source": [
        "y_1 = np.ones(4889)\n",
        "y_0 = np.zeros(18631)\n",
        "y = np.append(y_0,y_1,axis=0)"
      ],
      "execution_count": 0,
      "outputs": []
    },
    {
      "cell_type": "markdown",
      "metadata": {
        "id": "k65HZ_a4wqdD",
        "colab_type": "text"
      },
      "source": [
        "# Train test split the data"
      ]
    },
    {
      "cell_type": "code",
      "metadata": {
        "id": "vZOVKabshzPL",
        "colab_type": "code",
        "colab": {}
      },
      "source": [
        "from sklearn.model_selection import train_test_split\n",
        "\n",
        "X_train, X_test, y_train, y_test = train_test_split(train_array, y, test_size=0.2, random_state=42)"
      ],
      "execution_count": 0,
      "outputs": []
    },
    {
      "cell_type": "markdown",
      "metadata": {
        "id": "wKHBYjAViloF",
        "colab_type": "text"
      },
      "source": [
        "# CNN with dropout and batch normalization**"
      ]
    },
    {
      "cell_type": "code",
      "metadata": {
        "id": "klaIrjUVh76e",
        "colab_type": "code",
        "colab": {}
      },
      "source": [
        "from keras.layers import Conv2D, MaxPooling2D, Flatten\n",
        "\n",
        "def run_cnn(layers,dropout,units,X_input, y_input, epochs):\n",
        "  model = Sequential()\n",
        "  model.add(Conv2D(256, (3,3), activation='relu', input_shape=(X_train.shape[1:])))\n",
        "  model.add(Flatten())\n",
        "\n",
        "  for i in range(0,layers):\n",
        "    model.add(Dense(units, activation='relu'))\n",
        "    model.add(BatchNormalization())\n",
        "    model.add(Dropout(dropout))\n",
        "\n",
        "  model.add(Dense(1, activation='sigmoid'))\n",
        "  model.compile(loss='binary_crossentropy',\n",
        "            optimizer='adam',\n",
        "            metrics=['accuracy'])\n",
        "  history_callback = model.fit(X_input, y_input, batch_size=50, epochs=epochs, verbose=1, validation_split=0.2)\n",
        "  return pd.DataFrame(history_callback.history), model"
      ],
      "execution_count": 0,
      "outputs": []
    },
    {
      "cell_type": "code",
      "metadata": {
        "id": "bZ5XBQ6cQde0",
        "colab_type": "code",
        "outputId": "ca0a3c45-b092-45ce-da5e-352eb958b77a",
        "colab": {
          "base_uri": "https://localhost:8080/",
          "height": 830
        }
      },
      "source": [
        "results, model = run_cnn(3,0.3,64, X_train, y_train, 10)\n",
        "print(results)\n",
        "results.plot()"
      ],
      "execution_count": 0,
      "outputs": [
        {
          "output_type": "stream",
          "text": [
            "Train on 15052 samples, validate on 3764 samples\n",
            "Epoch 1/10\n",
            "15052/15052 [==============================] - 18s 1ms/step - loss: 0.5199 - acc: 0.7599 - val_loss: 0.4978 - val_acc: 0.8037\n",
            "Epoch 2/10\n",
            "15052/15052 [==============================] - 16s 1ms/step - loss: 0.4140 - acc: 0.8110 - val_loss: 0.5874 - val_acc: 0.7883\n",
            "Epoch 3/10\n",
            "15052/15052 [==============================] - 16s 1ms/step - loss: 0.3923 - acc: 0.8174 - val_loss: 0.5231 - val_acc: 0.7851\n",
            "Epoch 4/10\n",
            "15052/15052 [==============================] - 16s 1ms/step - loss: 0.3703 - acc: 0.8264 - val_loss: 0.5353 - val_acc: 0.8196\n",
            "Epoch 5/10\n",
            "15052/15052 [==============================] - 16s 1ms/step - loss: 0.3729 - acc: 0.8232 - val_loss: 0.4070 - val_acc: 0.8047\n",
            "Epoch 6/10\n",
            "15052/15052 [==============================] - 15s 1ms/step - loss: 0.3579 - acc: 0.8350 - val_loss: 0.9808 - val_acc: 0.2811\n",
            "Epoch 7/10\n",
            "15052/15052 [==============================] - 16s 1ms/step - loss: 0.3502 - acc: 0.8354 - val_loss: 1.5741 - val_acc: 0.7792\n",
            "Epoch 8/10\n",
            "15052/15052 [==============================] - 16s 1ms/step - loss: 0.3430 - acc: 0.8415 - val_loss: 0.3825 - val_acc: 0.8193\n",
            "Epoch 9/10\n",
            "15052/15052 [==============================] - 16s 1ms/step - loss: 0.3313 - acc: 0.8489 - val_loss: 0.4392 - val_acc: 0.7808\n",
            "Epoch 10/10\n",
            "15052/15052 [==============================] - 16s 1ms/step - loss: 0.3206 - acc: 0.8579 - val_loss: 0.3919 - val_acc: 0.8183\n",
            "   val_loss   val_acc      loss       acc\n",
            "0  0.497773  0.803666  0.519858  0.759899\n",
            "1  0.587438  0.788257  0.414006  0.810989\n",
            "2  0.523064  0.785069  0.392305  0.817433\n",
            "3  0.535291  0.819607  0.370257  0.826402\n",
            "4  0.406980  0.804729  0.372879  0.823213\n",
            "5  0.980797  0.281084  0.357863  0.835039\n",
            "6  1.574071  0.779224  0.350172  0.835371\n",
            "7  0.382456  0.819341  0.343046  0.841549\n",
            "8  0.439168  0.780818  0.331328  0.848924\n",
            "9  0.391884  0.818278  0.320608  0.857893\n"
          ],
          "name": "stdout"
        },
        {
          "output_type": "execute_result",
          "data": {
            "text/plain": [
              "<matplotlib.axes._subplots.AxesSubplot at 0x7fe2143afba8>"
            ]
          },
          "metadata": {
            "tags": []
          },
          "execution_count": 32
        },
        {
          "output_type": "display_data",
          "data": {
            "image/png": "[encoded data removed]",
            "text/plain": [
              "<Figure size 432x288 with 1 Axes>"
            ]
          },
          "metadata": {
            "tags": []
          }
        }
      ]
    },
    {
      "cell_type": "code",
      "metadata": {
        "id": "poxeUDXWRgaL",
        "colab_type": "code",
        "outputId": "99556800-c6bd-4d37-e273-b91215beccb2",
        "colab": {
          "base_uri": "https://localhost:8080/",
          "height": 281
        }
      },
      "source": [
        "import matplotlib.pyplot as plt\n",
        "\n",
        "fig, axes = plt.subplots(2, 2)\n",
        "_ = axes[0,0].plot(pd.Series(results.index),results['val_loss'])\n",
        "_ = axes[0,0].set_title('Validation loss')\n",
        "_ = axes[0,1].plot(pd.Series(results.index),results['val_acc'])\n",
        "_ = axes[0,1].set_title('Validation accuracy')\n",
        "_ = axes[1,0].plot(pd.Series(results.index),results['loss'])\n",
        "_ = axes[1,0].set_title('Training loss')\n",
        "_ = axes[1,1].plot(pd.Series(results.index),results['acc'])\n",
        "_ = axes[1,1].set_title('Training accuracy')"
      ],
      "execution_count": 0,
      "outputs": [
        {
          "output_type": "display_data",
          "data": {
            "image/png": "[encoded data removed]",
            "text/plain": [
              "<Figure size 432x288 with 4 Axes>"
            ]
          },
          "metadata": {
            "tags": []
          }
        }
      ]
    },
    {
      "cell_type": "code",
      "metadata": {
        "id": "zyn6QmN9i1cW",
        "colab_type": "code",
        "outputId": "f56a879a-1191-4b6b-a907-27204f28c571",
        "colab": {
          "base_uri": "https://localhost:8080/",
          "height": 51
        }
      },
      "source": [
        "score = model.evaluate(X_test, y_test, verbose=0)\n",
        "print(\"Test loss: {:.3f}\".format(score[0]))\n",
        "print(\"Test Accuracy: {:.3f}\".format(score[1]))"
      ],
      "execution_count": 0,
      "outputs": [
        {
          "output_type": "stream",
          "text": [
            "Test loss: 0.400\n",
            "Test Accuracy: 0.809\n"
          ],
          "name": "stdout"
        }
      ]
    },
    {
      "cell_type": "markdown",
      "metadata": {
        "id": "3SDC2HDPxXru",
        "colab_type": "text"
      },
      "source": [
        "A basic CNN network with batch normalization and dropouts is giving a decent accuracy of 80.9%"
      ]
    },
    {
      "cell_type": "markdown",
      "metadata": {
        "id": "0nu7BynCVits",
        "colab_type": "text"
      },
      "source": [
        "# Experimenting with rotation, vertical flip mirroring and image translation"
      ]
    },
    {
      "cell_type": "markdown",
      "metadata": {
        "id": "fnxM-hrTx8AL",
        "colab_type": "text"
      },
      "source": [
        "Let us rotate the images and see how the model is performing"
      ]
    },
    {
      "cell_type": "code",
      "metadata": {
        "id": "z7VSHmoeVpDN",
        "colab_type": "code",
        "outputId": "1605453f-9fb3-4b6a-bb7e-dd4eae72ffd2",
        "colab": {
          "base_uri": "https://localhost:8080/",
          "height": 34
        }
      },
      "source": [
        "X_train[0].shape"
      ],
      "execution_count": 0,
      "outputs": [
        {
          "output_type": "execute_result",
          "data": {
            "text/plain": [
              "(50, 50, 3)"
            ]
          },
          "metadata": {
            "tags": []
          },
          "execution_count": 35
        }
      ]
    },
    {
      "cell_type": "code",
      "metadata": {
        "id": "rY3kqjcWU3Gk",
        "colab_type": "code",
        "colab": {}
      },
      "source": [
        "import cv2\n",
        "\n",
        "rows,cols = X_train[0].shape[0], X_train[0].shape[1]\n",
        "\n",
        "M = cv2.getRotationMatrix2D((50/2,50/2),90,1)\n",
        "imgs_rotated = []\n",
        "\n",
        "for img in X_train:\n",
        "  imgs_rotated.append(cv2.warpAffine(img,M,(50,50)))\n",
        "  \n",
        "X_train_rotated = np.array(imgs_rotated)"
      ],
      "execution_count": 0,
      "outputs": []
    },
    {
      "cell_type": "code",
      "metadata": {
        "id": "WOgLAEzloLkM",
        "colab_type": "code",
        "outputId": "9862a09a-8b5a-4e2a-831d-89ecbd087890",
        "colab": {
          "base_uri": "https://localhost:8080/",
          "height": 830
        }
      },
      "source": [
        "# using baseline\n",
        "results, model_rotated = run_cnn(3,0.3,64, X_train_rotated, y_train,10)\n",
        "print(results)\n",
        "results.plot()"
      ],
      "execution_count": 0,
      "outputs": [
        {
          "output_type": "stream",
          "text": [
            "Train on 15052 samples, validate on 3764 samples\n",
            "Epoch 1/10\n",
            "15052/15052 [==============================] - 18s 1ms/step - loss: 0.5163 - acc: 0.7588 - val_loss: 0.5535 - val_acc: 0.7909\n",
            "Epoch 2/10\n",
            "15052/15052 [==============================] - 15s 983us/step - loss: 0.4045 - acc: 0.8137 - val_loss: 0.4369 - val_acc: 0.7872\n",
            "Epoch 3/10\n",
            "15052/15052 [==============================] - 15s 984us/step - loss: 0.3885 - acc: 0.8206 - val_loss: 1.1308 - val_acc: 0.2285\n",
            "Epoch 4/10\n",
            "15052/15052 [==============================] - 15s 982us/step - loss: 0.3767 - acc: 0.8218 - val_loss: 0.8850 - val_acc: 0.7795\n",
            "Epoch 5/10\n",
            "15052/15052 [==============================] - 15s 988us/step - loss: 0.3648 - acc: 0.8289 - val_loss: 0.4012 - val_acc: 0.8154\n",
            "Epoch 6/10\n",
            "15052/15052 [==============================] - 15s 998us/step - loss: 0.3498 - acc: 0.8377 - val_loss: 0.6666 - val_acc: 0.7811\n",
            "Epoch 7/10\n",
            "15052/15052 [==============================] - 15s 986us/step - loss: 0.3377 - acc: 0.8439 - val_loss: 0.5143 - val_acc: 0.7806\n",
            "Epoch 8/10\n",
            "15052/15052 [==============================] - 15s 987us/step - loss: 0.3311 - acc: 0.8480 - val_loss: 0.4562 - val_acc: 0.8332\n",
            "Epoch 9/10\n",
            "15052/15052 [==============================] - 15s 990us/step - loss: 0.3187 - acc: 0.8565 - val_loss: 0.3824 - val_acc: 0.8170\n",
            "Epoch 10/10\n",
            "15052/15052 [==============================] - 15s 989us/step - loss: 0.3072 - acc: 0.8614 - val_loss: 0.3814 - val_acc: 0.8284\n",
            "   val_loss   val_acc      loss       acc\n",
            "0  0.553477  0.790914  0.516343  0.758836\n",
            "1  0.436862  0.787194  0.404503  0.813712\n",
            "2  1.130781  0.228480  0.388542  0.820555\n",
            "3  0.885040  0.779490  0.376739  0.821751\n",
            "4  0.401174  0.815356  0.364846  0.828926\n",
            "5  0.666606  0.781084  0.349816  0.837696\n",
            "6  0.514343  0.780553  0.337701  0.843875\n",
            "7  0.456244  0.833156  0.331077  0.847994\n",
            "8  0.382396  0.816950  0.318698  0.856497\n",
            "9  0.381437  0.828374  0.307157  0.861414\n"
          ],
          "name": "stdout"
        },
        {
          "output_type": "execute_result",
          "data": {
            "text/plain": [
              "<matplotlib.axes._subplots.AxesSubplot at 0x7fe211f474a8>"
            ]
          },
          "metadata": {
            "tags": []
          },
          "execution_count": 39
        },
        {
          "output_type": "display_data",
          "data": {
            "image/png": "[encoded data removed]",
            "text/plain": [
              "<Figure size 432x288 with 1 Axes>"
            ]
          },
          "metadata": {
            "tags": []
          }
        }
      ]
    },
    {
      "cell_type": "code",
      "metadata": {
        "id": "PtOAyX4voOJr",
        "colab_type": "code",
        "outputId": "e17fd3d3-fad0-4cf3-8702-ae011ba2c840",
        "colab": {
          "base_uri": "https://localhost:8080/",
          "height": 281
        }
      },
      "source": [
        "fig, axes = plt.subplots(2, 2)\n",
        "_ = axes[0,0].plot(pd.Series(results.index),results['val_loss'])\n",
        "_ = axes[0,0].set_title('Validation loss')\n",
        "_ = axes[0,1].plot(pd.Series(results.index),results['val_acc'])\n",
        "_ = axes[0,1].set_title('Validation accuracy')\n",
        "_ = axes[1,0].plot(pd.Series(results.index),results['loss'])\n",
        "_ = axes[1,0].set_title('Training loss')\n",
        "_ = axes[1,1].plot(pd.Series(results.index),results['acc'])\n",
        "_ = axes[1,1].set_title('Training accuracy')"
      ],
      "execution_count": 0,
      "outputs": [
        {
          "output_type": "display_data",
          "data": {
            "image/png": "[encoded data removed]",
            "text/plain": [
              "<Figure size 432x288 with 4 Axes>"
            ]
          },
          "metadata": {
            "tags": []
          }
        }
      ]
    },
    {
      "cell_type": "code",
      "metadata": {
        "id": "9wZ-hTcwo67C",
        "colab_type": "code",
        "outputId": "1e5b7dde-28bd-4707-8187-d92df11bf25d",
        "colab": {
          "base_uri": "https://localhost:8080/",
          "height": 51
        }
      },
      "source": [
        "score = model_rotated.evaluate(X_test, y_test, verbose=0)\n",
        "print(\"Test loss: {:.3f}\".format(score[0]))\n",
        "print(\"Test Accuracy: {:.3f}\".format(score[1]))"
      ],
      "execution_count": 0,
      "outputs": [
        {
          "output_type": "stream",
          "text": [
            "Test loss: 0.376\n",
            "Test Accuracy: 0.820\n"
          ],
          "name": "stdout"
        }
      ]
    },
    {
      "cell_type": "markdown",
      "metadata": {
        "id": "WmWb3hJXyBt-",
        "colab_type": "text"
      },
      "source": [
        "On rotating, the accuracy score has improved from the previous value."
      ]
    },
    {
      "cell_type": "markdown",
      "metadata": {
        "id": "gl-aLLg-XzA7",
        "colab_type": "text"
      },
      "source": [
        "**Verical Flip Mirroring**"
      ]
    },
    {
      "cell_type": "code",
      "metadata": {
        "id": "dWEht9lGXuJv",
        "colab_type": "code",
        "outputId": "7cdc7c17-33e5-4586-88a6-fcba5917778d",
        "colab": {
          "base_uri": "https://localhost:8080/",
          "height": 34
        }
      },
      "source": [
        "imgs_mirrored = []\n",
        "\n",
        "for img in X_train:\n",
        "  imgs_mirrored.append(cv2.flip(img,1))\n",
        "  \n",
        "X_train_mirrored = np.array(imgs_mirrored)\n",
        "print(X_train_mirrored.shape)\n",
        "  "
      ],
      "execution_count": 0,
      "outputs": [
        {
          "output_type": "stream",
          "text": [
            "(18816, 50, 50, 3)\n"
          ],
          "name": "stdout"
        }
      ]
    },
    {
      "cell_type": "code",
      "metadata": {
        "id": "CjJcxh53YSrd",
        "colab_type": "code",
        "outputId": "fdd25bd3-2b9c-43b8-99f8-02aa69945d35",
        "colab": {
          "base_uri": "https://localhost:8080/",
          "height": 830
        }
      },
      "source": [
        "# using original baseline\n",
        "results, model_flip = run_cnn(3,0.2,64, X_train_mirrored, y_train,10)\n",
        "print(results)\n",
        "results.plot()"
      ],
      "execution_count": 0,
      "outputs": [
        {
          "output_type": "stream",
          "text": [
            "Train on 15052 samples, validate on 3764 samples\n",
            "Epoch 1/10\n",
            "15052/15052 [==============================] - 19s 1ms/step - loss: 0.5089 - acc: 0.7673 - val_loss: 0.6209 - val_acc: 0.7112\n",
            "Epoch 2/10\n",
            "15052/15052 [==============================] - 15s 1ms/step - loss: 0.3984 - acc: 0.8199 - val_loss: 0.4485 - val_acc: 0.7933\n",
            "Epoch 3/10\n",
            "15052/15052 [==============================] - 15s 1ms/step - loss: 0.3854 - acc: 0.8254 - val_loss: 0.5130 - val_acc: 0.7891\n",
            "Epoch 4/10\n",
            "15052/15052 [==============================] - 15s 1ms/step - loss: 0.3770 - acc: 0.8271 - val_loss: 0.4203 - val_acc: 0.8114\n",
            "Epoch 5/10\n",
            "15052/15052 [==============================] - 15s 995us/step - loss: 0.3616 - acc: 0.8356 - val_loss: 0.4803 - val_acc: 0.8124\n",
            "Epoch 6/10\n",
            "15052/15052 [==============================] - 15s 983us/step - loss: 0.3514 - acc: 0.8384 - val_loss: 2.1101 - val_acc: 0.7798\n",
            "Epoch 7/10\n",
            "15052/15052 [==============================] - 15s 1ms/step - loss: 0.3380 - acc: 0.8509 - val_loss: 0.4045 - val_acc: 0.8185\n",
            "Epoch 8/10\n",
            "15052/15052 [==============================] - 16s 1ms/step - loss: 0.3356 - acc: 0.8503 - val_loss: 1.4090 - val_acc: 0.7782\n",
            "Epoch 9/10\n",
            "15052/15052 [==============================] - 16s 1ms/step - loss: 0.3227 - acc: 0.8584 - val_loss: 1.2358 - val_acc: 0.2710\n",
            "Epoch 10/10\n",
            "15052/15052 [==============================] - 16s 1ms/step - loss: 0.3115 - acc: 0.8650 - val_loss: 0.4412 - val_acc: 0.8262\n",
            "   val_loss   val_acc      loss       acc\n",
            "0  0.620902  0.711211  0.508889  0.767340\n",
            "1  0.448455  0.793305  0.398364  0.819891\n",
            "2  0.513030  0.789054  0.385371  0.825405\n",
            "3  0.420253  0.811371  0.377014  0.827133\n",
            "4  0.480342  0.812434  0.361630  0.835636\n",
            "5  2.110124  0.779756  0.351436  0.838360\n",
            "6  0.404489  0.818544  0.337994  0.850850\n",
            "7  1.408978  0.778162  0.335559  0.850319\n",
            "8  1.235752  0.270988  0.322667  0.858424\n",
            "9  0.441226  0.826249  0.311502  0.865001\n"
          ],
          "name": "stdout"
        },
        {
          "output_type": "execute_result",
          "data": {
            "text/plain": [
              "<matplotlib.axes._subplots.AxesSubplot at 0x7fe10caafe10>"
            ]
          },
          "metadata": {
            "tags": []
          },
          "execution_count": 48
        },
        {
          "output_type": "display_data",
          "data": {
            "image/png": "[encoded data removed]",
            "text/plain": [
              "<Figure size 432x288 with 1 Axes>"
            ]
          },
          "metadata": {
            "tags": []
          }
        }
      ]
    },
    {
      "cell_type": "code",
      "metadata": {
        "id": "MUUmynQhvjIE",
        "colab_type": "code",
        "outputId": "87bd8d81-4200-4219-feb3-9e47f4cbdf56",
        "colab": {
          "base_uri": "https://localhost:8080/",
          "height": 51
        }
      },
      "source": [
        "score = model_flip.evaluate(X_test, y_test, verbose=0)\n",
        "print(\"Test loss: {:.3f}\".format(score[0]))\n",
        "print(\"Test Accuracy: {:.3f}\".format(score[1]))"
      ],
      "execution_count": 0,
      "outputs": [
        {
          "output_type": "stream",
          "text": [
            "Test loss: 0.450\n",
            "Test Accuracy: 0.812\n"
          ],
          "name": "stdout"
        }
      ]
    },
    {
      "cell_type": "markdown",
      "metadata": {
        "id": "U6J3bxNJbebx",
        "colab_type": "text"
      },
      "source": [
        "**Image Translation**"
      ]
    },
    {
      "cell_type": "code",
      "metadata": {
        "id": "WwJJ5crybTDt",
        "colab_type": "code",
        "outputId": "8c10a7d8-d030-434d-c607-67ad5dc11e6c",
        "colab": {
          "base_uri": "https://localhost:8080/",
          "height": 34
        }
      },
      "source": [
        "imgs_translated = []\n",
        "\n",
        "for img in X_train:\n",
        "  imgs_translated.append(cv2.flip(img,1))\n",
        "  \n",
        "X_train_translated = np.array(imgs_translated)\n",
        "print(X_train_translated.shape)\n",
        "  "
      ],
      "execution_count": 0,
      "outputs": [
        {
          "output_type": "stream",
          "text": [
            "(18816, 50, 50, 3)\n"
          ],
          "name": "stdout"
        }
      ]
    },
    {
      "cell_type": "code",
      "metadata": {
        "id": "cdb0t8aybtwH",
        "colab_type": "code",
        "outputId": "c4f2f405-ff3a-4df3-90c7-bffebd899200",
        "colab": {
          "base_uri": "https://localhost:8080/",
          "height": 830
        }
      },
      "source": [
        "# baseline\n",
        "results, model_translated = run_cnn(3,0.2,64, X_train_translated, y_train,10)\n",
        "print(results)\n",
        "results.plot()"
      ],
      "execution_count": 0,
      "outputs": [
        {
          "output_type": "stream",
          "text": [
            "Train on 15052 samples, validate on 3764 samples\n",
            "Epoch 1/10\n",
            "15052/15052 [==============================] - 20s 1ms/step - loss: 0.4979 - acc: 0.7667 - val_loss: 0.7151 - val_acc: 0.7811\n",
            "Epoch 2/10\n",
            "15052/15052 [==============================] - 15s 979us/step - loss: 0.4032 - acc: 0.8194 - val_loss: 1.2293 - val_acc: 0.7792\n",
            "Epoch 3/10\n",
            "15052/15052 [==============================] - 15s 983us/step - loss: 0.3885 - acc: 0.8190 - val_loss: 0.5127 - val_acc: 0.7747\n",
            "Epoch 4/10\n",
            "15052/15052 [==============================] - 15s 980us/step - loss: 0.3750 - acc: 0.8241 - val_loss: 0.6996 - val_acc: 0.7803\n",
            "Epoch 5/10\n",
            "15052/15052 [==============================] - 15s 977us/step - loss: 0.3698 - acc: 0.8279 - val_loss: 0.8229 - val_acc: 0.7795\n",
            "Epoch 6/10\n",
            "15052/15052 [==============================] - 15s 987us/step - loss: 0.3533 - acc: 0.8367 - val_loss: 0.4472 - val_acc: 0.8124\n",
            "Epoch 7/10\n",
            "15052/15052 [==============================] - 15s 988us/step - loss: 0.3426 - acc: 0.8431 - val_loss: 0.4157 - val_acc: 0.7957\n",
            "Epoch 8/10\n",
            "15052/15052 [==============================] - 15s 980us/step - loss: 0.3461 - acc: 0.8388 - val_loss: 0.4027 - val_acc: 0.8167\n",
            "Epoch 9/10\n",
            "15052/15052 [==============================] - 15s 979us/step - loss: 0.3367 - acc: 0.8475 - val_loss: 0.3919 - val_acc: 0.8135\n",
            "Epoch 10/10\n",
            "15052/15052 [==============================] - 15s 981us/step - loss: 0.3218 - acc: 0.8539 - val_loss: 0.3785 - val_acc: 0.8286\n",
            "   val_loss   val_acc      loss       acc\n",
            "0  0.715104  0.781084  0.497948  0.766676\n",
            "1  1.229331  0.779224  0.403183  0.819360\n",
            "2  0.512688  0.774708  0.388479  0.818961\n",
            "3  0.699586  0.780287  0.375029  0.824143\n",
            "4  0.822932  0.779490  0.369769  0.827930\n",
            "5  0.447236  0.812434  0.353346  0.836699\n",
            "6  0.415655  0.795696  0.342578  0.843077\n",
            "7  0.402737  0.816684  0.346149  0.838825\n",
            "8  0.391898  0.813496  0.336689  0.847529\n",
            "9  0.378496  0.828640  0.321820  0.853906\n"
          ],
          "name": "stdout"
        },
        {
          "output_type": "execute_result",
          "data": {
            "text/plain": [
              "<matplotlib.axes._subplots.AxesSubplot at 0x7fe10b86f4e0>"
            ]
          },
          "metadata": {
            "tags": []
          },
          "execution_count": 51
        },
        {
          "output_type": "display_data",
          "data": {
            "image/png": "[encoded data removed]",
            "text/plain": [
              "<Figure size 432x288 with 1 Axes>"
            ]
          },
          "metadata": {
            "tags": []
          }
        }
      ]
    },
    {
      "cell_type": "code",
      "metadata": {
        "id": "zAYUhKsHw79X",
        "colab_type": "code",
        "outputId": "30babaa7-cff6-4667-ea83-c5fe748b5d73",
        "colab": {
          "base_uri": "https://localhost:8080/",
          "height": 281
        }
      },
      "source": [
        "fig, axes = plt.subplots(2, 2)\n",
        "_ = axes[0,0].plot(pd.Series(results.index),results['val_loss'])\n",
        "_ = axes[0,0].set_title('Validation loss')\n",
        "_ = axes[0,1].plot(pd.Series(results.index),results['val_acc'])\n",
        "_ = axes[0,1].set_title('Validation accuracy')\n",
        "_ = axes[1,0].plot(pd.Series(results.index),results['loss'])\n",
        "_ = axes[1,0].set_title('Training loss')\n",
        "_ = axes[1,1].plot(pd.Series(results.index),results['acc'])\n",
        "_ = axes[1,1].set_title('Training accuracy')"
      ],
      "execution_count": 0,
      "outputs": [
        {
          "output_type": "display_data",
          "data": {
            "image/png": "[encoded data removed]",
            "text/plain": [
              "<Figure size 432x288 with 4 Axes>"
            ]
          },
          "metadata": {
            "tags": []
          }
        }
      ]
    },
    {
      "cell_type": "code",
      "metadata": {
        "id": "9yy2Z3Ztb7Kk",
        "colab_type": "code",
        "outputId": "01ef6a58-da1f-4d51-fd23-695a800e04da",
        "colab": {
          "base_uri": "https://localhost:8080/",
          "height": 51
        }
      },
      "source": [
        "score = model_translated.evaluate(X_test, y_test, verbose=0)\n",
        "print(\"Test loss: {:.3f}\".format(score[0]))\n",
        "print(\"Test Accuracy: {:.3f}\".format(score[1]))"
      ],
      "execution_count": 0,
      "outputs": [
        {
          "output_type": "stream",
          "text": [
            "Test loss: 0.387\n",
            "Test Accuracy: 0.822\n"
          ],
          "name": "stdout"
        }
      ]
    },
    {
      "cell_type": "markdown",
      "metadata": {
        "id": "VfFMU-gTb_P2",
        "colab_type": "text"
      },
      "source": [
        "# Deep model with Residual Connections\n",
        "\n",
        "Let us experiment with residual connections. As the model goes deep, it won't be able to learn without residual connections. This is experimented in the below section"
      ]
    },
    {
      "cell_type": "code",
      "metadata": {
        "id": "lCSS5WgEb-tO",
        "colab_type": "code",
        "colab": {}
      },
      "source": [
        "from keras.layers import Input, Dense\n",
        "from keras.models import Model\n",
        "\n",
        "\n",
        "def run_cnn_deep(layers,dropout,units,X_input, y_input, epochs):\n",
        "\n",
        "  inputs = Input(shape=(50,50,3))\n",
        "  x = Conv2D(256, (3,3), activation='relu', input_shape=(X_train.shape[1:]))(inputs)\n",
        "  # x = Conv2D(256, (3,3), activation='relu', input_shape=(X_train.shape[1:]))\n",
        "  x = Flatten()(x)\n",
        "  x = Dense(units, activation='relu')(x)\n",
        "  print('About to add layers iteratively')\n",
        "  \n",
        "  for i in range(0,layers-1):\n",
        "  x = Conv2D(256, (3,3), activation='relu', input_shape=(X_train.shape[1:]))(x)\n",
        "    x = Flatten()(x)\n",
        "    x = Dense(units, activation='relu')(x)\n",
        "    # x = Dropout(dropout)(x)\n",
        "    \n",
        "  \n",
        "  predictions = Dense(1, activation='sigmoid')(x)\n",
        "  model = Model(inputs=inputs, outputs=predictions)\n",
        "  print(model.summary())\n",
        "  model.compile(loss='binary_crossentropy',\n",
        "            optimizer='adam',\n",
        "            metrics=['accuracy'])\n",
        "  history_callback = model.fit(X_input, y_input, batch_size=50, epochs=epochs, verbose=1, validation_split=0.2)\n",
        "  return pd.DataFrame(history_callback.history), model"
      ],
      "execution_count": 0,
      "outputs": []
    },
    {
      "cell_type": "code",
      "metadata": {
        "id": "KjhPu0A3sR6r",
        "colab_type": "code",
        "outputId": "6631339b-b785-4870-f154-6250aad36cc1",
        "colab": {
          "base_uri": "https://localhost:8080/",
          "height": 445
        }
      },
      "source": [
        "from keras.layers import Input, Conv2D, MaxPooling2D, Flatten,add,Dense\n",
        "from keras.models import Model\n",
        "num_classes = 10\n",
        "inputs = Input(shape=(50, 50, 3))\n",
        "\n",
        "conv1 = Conv2D(32, (3, 3), activation='relu',\n",
        "                 padding='same')(inputs)\n",
        "conv2 = Conv2D(32, (3, 3), activation='relu',\n",
        "                 padding='same')(conv1)\n",
        "maxpool1 = MaxPooling2D(pool_size=(2, 2))(conv2)\n",
        "conv3 = Conv2D(32, (3, 3), activation='relu',\n",
        "                 padding='same')(maxpool1)\n",
        "conv4 = Conv2D(32, (3, 3), activation='relu',\n",
        "                 padding='same')(conv3)\n",
        "maxpool2 = MaxPooling2D(pool_size=(2, 2))(conv4)\n",
        "\n",
        "conv5 = Conv2D(32, (3, 3), activation='relu',\n",
        "                 padding='same')(maxpool2)\n",
        "conv6 = Conv2D(32, (3, 3), activation='relu',\n",
        "                 padding='same')(conv5)\n",
        "maxpool3 = MaxPooling2D(pool_size=(2, 2))(conv6)\n",
        "conv7 = Conv2D(32, (3, 3), activation='relu',\n",
        "                 padding='same')(maxpool3)\n",
        "conv8 = Conv2D(32, (3, 3), activation='relu',\n",
        "                 padding='same')(conv7)\n",
        "\n",
        "\n",
        "skip2 = add([maxpool3, conv8])\n",
        "maxpool4 = MaxPooling2D(pool_size=(2, 2))(skip2)\n",
        "flat = Flatten()(maxpool4)\n",
        "dense = Dense(10, activation='relu')(flat)\n",
        "predictions = Dense(1, activation='sigmoid')(dense)\n",
        "model = Model(inputs=inputs, outputs=predictions)\n",
        "\n",
        "model.compile(loss='binary_crossentropy',\n",
        "            optimizer='adam',\n",
        "            metrics=['accuracy'])\n",
        "history_callback = model.fit(X_train, y_train, batch_size=50, epochs=10, verbose=1, validation_split=0.2)\n"
      ],
      "execution_count": 0,
      "outputs": [
        {
          "output_type": "stream",
          "text": [
            "WARNING:tensorflow:From /usr/local/lib/python3.6/dist-packages/tensorflow/python/ops/math_ops.py:3066: to_int32 (from tensorflow.python.ops.math_ops) is deprecated and will be removed in a future version.\n",
            "Instructions for updating:\n",
            "Use tf.cast instead.\n",
            "Train on 15052 samples, validate on 3764 samples\n",
            "Epoch 1/10\n",
            "15052/15052 [==============================] - 10s 679us/step - loss: 0.5305 - acc: 0.7905 - val_loss: 0.5152 - val_acc: 0.7800\n",
            "Epoch 2/10\n",
            "15052/15052 [==============================] - 4s 253us/step - loss: 0.4727 - acc: 0.7964 - val_loss: 0.4670 - val_acc: 0.7800\n",
            "Epoch 3/10\n",
            "15052/15052 [==============================] - 4s 255us/step - loss: 0.4257 - acc: 0.8129 - val_loss: 0.4399 - val_acc: 0.8018\n",
            "Epoch 4/10\n",
            "15052/15052 [==============================] - 4s 254us/step - loss: 0.3888 - acc: 0.8310 - val_loss: 0.3851 - val_acc: 0.8318\n",
            "Epoch 5/10\n",
            "15052/15052 [==============================] - 4s 254us/step - loss: 0.3746 - acc: 0.8390 - val_loss: 0.3885 - val_acc: 0.8332\n",
            "Epoch 6/10\n",
            "15052/15052 [==============================] - 4s 255us/step - loss: 0.3696 - acc: 0.8378 - val_loss: 0.3696 - val_acc: 0.8491\n",
            "Epoch 7/10\n",
            "15052/15052 [==============================] - 4s 254us/step - loss: 0.3544 - acc: 0.8484 - val_loss: 0.3526 - val_acc: 0.8504\n",
            "Epoch 8/10\n",
            "15052/15052 [==============================] - 4s 254us/step - loss: 0.3562 - acc: 0.8483 - val_loss: 0.3465 - val_acc: 0.8366\n",
            "Epoch 9/10\n",
            "15052/15052 [==============================] - 4s 256us/step - loss: 0.3485 - acc: 0.8505 - val_loss: 0.3915 - val_acc: 0.8257\n",
            "Epoch 10/10\n",
            "15052/15052 [==============================] - 4s 256us/step - loss: 0.3434 - acc: 0.8557 - val_loss: 0.3439 - val_acc: 0.8531\n"
          ],
          "name": "stdout"
        }
      ]
    },
    {
      "cell_type": "code",
      "metadata": {
        "id": "Icuw97SH-XBK",
        "colab_type": "code",
        "outputId": "3d955b18-a0a2-4194-96ee-90fd97ac77ec",
        "colab": {
          "base_uri": "https://localhost:8080/",
          "height": 286
        }
      },
      "source": [
        "pd.DataFrame(data=history_callback.history).plot()"
      ],
      "execution_count": 0,
      "outputs": [
        {
          "output_type": "execute_result",
          "data": {
            "text/plain": [
              "<matplotlib.axes._subplots.AxesSubplot at 0x7fe36674fe48>"
            ]
          },
          "metadata": {
            "tags": []
          },
          "execution_count": 27
        },
        {
          "output_type": "display_data",
          "data": {
            "image/png": "[encoded data removed]",
            "text/plain": [
              "<Figure size 432x288 with 1 Axes>"
            ]
          },
          "metadata": {
            "tags": []
          }
        }
      ]
    },
    {
      "cell_type": "markdown",
      "metadata": {
        "id": "Q2QcWsmVy0Ne",
        "colab_type": "text"
      },
      "source": [
        "With residual connections and 8 convolutional layers, the model is able to learn."
      ]
    },
    {
      "cell_type": "markdown",
      "metadata": {
        "id": "i7suLCyYy_tc",
        "colab_type": "text"
      },
      "source": [
        "# Deep network without residual connections"
      ]
    },
    {
      "cell_type": "code",
      "metadata": {
        "id": "bZW3JNyIb1t4",
        "colab_type": "code",
        "colab": {}
      },
      "source": [
        "from keras.layers import Input, Dense\n",
        "from keras.models import Model\n",
        "from keras.layers import Conv2D, MaxPooling2D, Flatten\n",
        "\n",
        "def run_cnn_deep_nores(layers,dropout,units,X_input, y_input, epochs):\n",
        "  model = Sequential()\n",
        "  model.add(Conv2D(256, (3,3), activation='relu', input_shape=(X_train.shape[1:])))\n",
        "  model.add(Flatten())\n",
        "\n",
        "  for i in range(0,layers):\n",
        "    model.add(Dense(units, activation='relu'))\n",
        "    model.add(Dropout(dropout))\n",
        "\n",
        "  model.add(Dense(1, activation='sigmoid'))\n",
        "  model.compile(loss='binary_crossentropy',\n",
        "            optimizer='adam',\n",
        "            metrics=['accuracy'])\n",
        "  history_callback = model.fit(X_input, y_input, batch_size=50, epochs=epochs, verbose=1, validation_split=0.2)\n",
        "  return pd.DataFrame(history_callback.history), model"
      ],
      "execution_count": 0,
      "outputs": []
    },
    {
      "cell_type": "code",
      "metadata": {
        "id": "tHFXfJVGcxhv",
        "colab_type": "code",
        "outputId": "f1a20dcf-e9c7-44d4-bd7c-cbd5596edbbe",
        "colab": {
          "base_uri": "https://localhost:8080/",
          "height": 901
        }
      },
      "source": [
        "results, model_cnn_deep_nores = run_cnn_deep_nores(15,0.2,64, X_train, y_train,10)\n",
        "print(results)\n",
        "results.plot()"
      ],
      "execution_count": 0,
      "outputs": [
        {
          "output_type": "stream",
          "text": [
            "WARNING:tensorflow:From /usr/local/lib/python3.6/dist-packages/keras/backend/tensorflow_backend.py:3445: calling dropout (from tensorflow.python.ops.nn_ops) with keep_prob is deprecated and will be removed in a future version.\n",
            "Instructions for updating:\n",
            "Please use `rate` instead of `keep_prob`. Rate should be set to `rate = 1 - keep_prob`.\n",
            "Train on 15052 samples, validate on 3764 samples\n",
            "Epoch 1/10\n",
            "15052/15052 [==============================] - 18s 1ms/step - loss: 3.4785 - acc: 0.7828 - val_loss: 3.5456 - val_acc: 0.7800\n",
            "Epoch 2/10\n",
            "15052/15052 [==============================] - 15s 1ms/step - loss: 3.2799 - acc: 0.7965 - val_loss: 3.5456 - val_acc: 0.7800\n",
            "Epoch 3/10\n",
            "15052/15052 [==============================] - 16s 1ms/step - loss: 3.2810 - acc: 0.7964 - val_loss: 3.5456 - val_acc: 0.7800\n",
            "Epoch 4/10\n",
            "15052/15052 [==============================] - 15s 1ms/step - loss: 3.2821 - acc: 0.7964 - val_loss: 3.5456 - val_acc: 0.7800\n",
            "Epoch 5/10\n",
            "15052/15052 [==============================] - 16s 1ms/step - loss: 3.2831 - acc: 0.7963 - val_loss: 3.5456 - val_acc: 0.7800\n",
            "Epoch 6/10\n",
            "15052/15052 [==============================] - 15s 1ms/step - loss: 3.2821 - acc: 0.7964 - val_loss: 3.5456 - val_acc: 0.7800\n",
            "Epoch 7/10\n",
            "15052/15052 [==============================] - 15s 1ms/step - loss: 3.2831 - acc: 0.7963 - val_loss: 3.5456 - val_acc: 0.7800\n",
            "Epoch 8/10\n",
            "15052/15052 [==============================] - 16s 1ms/step - loss: 3.2842 - acc: 0.7962 - val_loss: 3.5456 - val_acc: 0.7800\n",
            "Epoch 9/10\n",
            "15052/15052 [==============================] - 15s 1ms/step - loss: 3.2799 - acc: 0.7965 - val_loss: 3.5456 - val_acc: 0.7800\n",
            "Epoch 10/10\n",
            "15052/15052 [==============================] - 15s 1ms/step - loss: 3.2821 - acc: 0.7964 - val_loss: 3.5456 - val_acc: 0.7800\n",
            "   val_loss   val_acc      loss       acc\n",
            "0  3.545638  0.780021  3.478505  0.782753\n",
            "1  3.545638  0.780021  3.279945  0.796505\n",
            "2  3.545638  0.780021  3.281015  0.796439\n",
            "3  3.545638  0.780021  3.282075  0.796373\n",
            "4  3.545638  0.780021  3.283134  0.796306\n",
            "5  3.545638  0.780021  3.282075  0.796373\n",
            "6  3.545638  0.780021  3.283122  0.796306\n",
            "7  3.545638  0.780021  3.284193  0.796240\n",
            "8  3.545638  0.780021  3.279945  0.796505\n",
            "9  3.545638  0.780021  3.282075  0.796373\n"
          ],
          "name": "stdout"
        },
        {
          "output_type": "execute_result",
          "data": {
            "text/plain": [
              "<matplotlib.axes._subplots.AxesSubplot at 0x7fe344da4a58>"
            ]
          },
          "metadata": {
            "tags": []
          },
          "execution_count": 29
        },
        {
          "output_type": "display_data",
          "data": {
            "image/png": "[encoded data removed]",
            "text/plain": [
              "<Figure size 432x288 with 1 Axes>"
            ]
          },
          "metadata": {
            "tags": []
          }
        }
      ]
    },
    {
      "cell_type": "markdown",
      "metadata": {
        "id": "rkP-ReMnzDqf",
        "colab_type": "text"
      },
      "source": [
        "The model fails to learn anything without having residual connections."
      ]
    }
  ]
}